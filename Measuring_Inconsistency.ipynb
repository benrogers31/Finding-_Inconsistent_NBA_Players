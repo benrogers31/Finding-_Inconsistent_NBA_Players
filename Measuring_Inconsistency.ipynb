{
 "cells": [
  {
   "cell_type": "code",
   "execution_count": 2,
   "metadata": {},
   "outputs": [],
   "source": [
    "import matplotlib.pyplot as plt\n",
    "import pandas as pd\n"
   ]
  },
  {
   "cell_type": "markdown",
   "metadata": {},
   "source": [
    "<h2> Here we are getting the data organized based on a specified starting year </h2>"
   ]
  },
  {
   "cell_type": "code",
   "execution_count": 7,
   "metadata": {},
   "outputs": [],
   "source": [
    "#THIS IS THE YEAR WE WANT TO START AND FINISH CALCULATING THE AVERAGE FROM\n",
    "#min year is 1980 because the stats are pretty sketchy prior\n",
    "\n",
    "start_year = 2020\n",
    "end_year = 2020"
   ]
  },
  {
   "cell_type": "code",
   "execution_count": 14,
   "metadata": {},
   "outputs": [],
   "source": [
    "all_players_df = pd.read_csv(\"csv_files/player_stats_\"+str(start_year)+\".csv\")\n",
    "all_players_df = all_players_df.drop_duplicates('NAME', keep='first')\n",
    "all_players_df['YEAR']= start_year\n",
    "\n",
    "for year in range(start_year+1, end_year+1):\n",
    "    \n",
    "    #store current year in df\n",
    "    current_year_players_df = pd.read_csv(\"csv_files/player_stats_\"+str(year)+\".csv\")\n",
    "\n",
    "    #since some players were traded during each season their stats are split first showing TOT (total season)\n",
    "    #and the following rows showing their stats specific for their teams\n",
    "    #since the total is always first we can drop all duplicates following the first instance (ASSUMING NO PLAYERS HAVE THE SAME NAME)\n",
    "    current_year_players_df = current_year_players_df.drop_duplicates('NAME', keep='first')\n",
    "    current_year_players_df['YEAR'] = year\n",
    "    #appending the current year to all previous years \n",
    "    all_players_df = all_players_df.append(current_year_players_df, ignore_index=True)\n",
    "    \n",
    "    \n"
   ]
  },
  {
   "cell_type": "code",
   "execution_count": 15,
   "metadata": {},
   "outputs": [],
   "source": [
    "#HERE WE WILL SET CRITERIA FOR OUR DATA BASE AND GET RID OF NANs\n",
    "\n",
    "#filling null values with 0\n",
    "all_players_df = all_players_df.fillna(0)\n",
    "\n",
    "######### UNCOMMENT IF YOU ONLY WANT TO LOOK AT CERTAIN POSITIONS #############\n",
    "# position = 'C'\n",
    "# players_df = all_players_df[all_players_df['POS'] == ' ' + position]\n",
    "\n",
    "######### UNCOMMENT IF YOU ONLY WANT TO LOOK AT CERTAIN TEAM #############\n",
    "# team = 'TOR'\n",
    "# players_df = all_players_df[all_players_df['TEAM'] == ' ' + team]\n",
    "\n",
    "######### UNCOMMENT IF WE WANT ALL PLAYERS #############\n",
    "players_df = all_players_df\n",
    "\n",
    "players_df = players_df.reset_index()\n",
    "\n",
    "\n",
    "\n"
   ]
  },
  {
   "cell_type": "markdown",
   "metadata": {},
   "source": [
    "<h2> Adding true shooting percentage to our dataframe </h2> "
   ]
  },
  {
   "cell_type": "code",
   "execution_count": 16,
   "metadata": {},
   "outputs": [],
   "source": [
    "#Helper methods that take in the original data frame and output each stat \n",
    "def add_true_shooting(df):\n",
    "    list_of_TS = []\n",
    "    #goes through each row of the df and uses data to calculate each stat\n",
    "    for index, player in df.iterrows():\n",
    "        #this if statement prevents a divide by zero exception\n",
    "        if(player['FGA']==0):\n",
    "            list_of_TS.append(0.00000)\n",
    "            continue\n",
    "        ts = player['PTS']/(2*(player['FGA']+(0.44*player['FTA'])))\n",
    "        #appends this calculated stat to the list \n",
    "        list_of_TS.append(ts)\n",
    "    #adds list to dataframe with proper header    \n",
    "    df['TS'] = list_of_TS\n",
    "    return df\n"
   ]
  },
  {
   "cell_type": "code",
   "execution_count": null,
   "metadata": {},
   "outputs": [],
   "source": []
  }
 ],
 "metadata": {
  "kernelspec": {
   "display_name": "Python 3",
   "language": "python",
   "name": "python3"
  },
  "language_info": {
   "codemirror_mode": {
    "name": "ipython",
    "version": 3
   },
   "file_extension": ".py",
   "mimetype": "text/x-python",
   "name": "python",
   "nbconvert_exporter": "python",
   "pygments_lexer": "ipython3",
   "version": "3.7.4"
  }
 },
 "nbformat": 4,
 "nbformat_minor": 2
}
